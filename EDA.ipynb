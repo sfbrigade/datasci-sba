{
 "cells": [
  {
   "cell_type": "code",
   "execution_count": 2,
   "metadata": {
    "collapsed": true
   },
   "outputs": [],
   "source": [
    "import pandas as pd\n",
    "import numpy as np\n",
    "import matplotlib.pyplot as plt\n",
    "%matplotlib inline"
   ]
  },
  {
   "cell_type": "markdown",
   "metadata": {},
   "source": [
    "### Some notes:\n",
    "- About 100 rows are from offices other than the san francisco office - this is because the buisnesses moved from other districts into the San Francisco district.\n",
    "- Exactly one loan that doesn't have a business type, so I dropped it cause I wanna use buisness type as a dummy\n"
   ]
  },
  {
   "cell_type": "code",
   "execution_count": 3,
   "metadata": {},
   "outputs": [
    {
     "data": {
      "text/html": [
       "<div>\n",
       "<table border=\"1\" class=\"dataframe\">\n",
       "  <thead>\n",
       "    <tr style=\"text-align: right;\">\n",
       "      <th></th>\n",
       "      <th>BorrZip</th>\n",
       "      <th>BankZip</th>\n",
       "      <th>GrossApproval</th>\n",
       "      <th>SBAGuaranteedApproval</th>\n",
       "      <th>ApprovalFiscalYear</th>\n",
       "      <th>InitialInterestRate</th>\n",
       "      <th>TermInMonths</th>\n",
       "      <th>NaicsCode</th>\n",
       "      <th>FranchiseCode</th>\n",
       "      <th>CongressionalDistrict</th>\n",
       "      <th>GrossChargeOffAmount</th>\n",
       "      <th>RevolverStatus</th>\n",
       "      <th>JobsSupported</th>\n",
       "      <th>ThirdPartyDollars</th>\n",
       "    </tr>\n",
       "  </thead>\n",
       "  <tbody>\n",
       "    <tr>\n",
       "      <th>count</th>\n",
       "      <td>44082.000000</td>\n",
       "      <td>44030.000000</td>\n",
       "      <td>4.408200e+04</td>\n",
       "      <td>3.702300e+04</td>\n",
       "      <td>44082.000000</td>\n",
       "      <td>12332.000000</td>\n",
       "      <td>44082.000000</td>\n",
       "      <td>37097.000000</td>\n",
       "      <td>44082.000000</td>\n",
       "      <td>43719.000000</td>\n",
       "      <td>4.408200e+04</td>\n",
       "      <td>37023.000000</td>\n",
       "      <td>44082.000000</td>\n",
       "      <td>2.300000e+03</td>\n",
       "    </tr>\n",
       "    <tr>\n",
       "      <th>mean</th>\n",
       "      <td>94493.394537</td>\n",
       "      <td>69718.582807</td>\n",
       "      <td>3.673445e+05</td>\n",
       "      <td>2.247890e+05</td>\n",
       "      <td>2004.454086</td>\n",
       "      <td>5.844035</td>\n",
       "      <td>151.441223</td>\n",
       "      <td>531949.045179</td>\n",
       "      <td>2084.112835</td>\n",
       "      <td>12.475171</td>\n",
       "      <td>1.250027e+04</td>\n",
       "      <td>0.238798</td>\n",
       "      <td>9.004582</td>\n",
       "      <td>1.165148e+06</td>\n",
       "    </tr>\n",
       "    <tr>\n",
       "      <th>std</th>\n",
       "      <td>3799.221644</td>\n",
       "      <td>26555.852797</td>\n",
       "      <td>5.197134e+05</td>\n",
       "      <td>3.526589e+05</td>\n",
       "      <td>6.957417</td>\n",
       "      <td>1.845328</td>\n",
       "      <td>91.999411</td>\n",
       "      <td>167185.499081</td>\n",
       "      <td>11110.453934</td>\n",
       "      <td>5.470474</td>\n",
       "      <td>7.774707e+04</td>\n",
       "      <td>0.426355</td>\n",
       "      <td>57.648117</td>\n",
       "      <td>1.408787e+06</td>\n",
       "    </tr>\n",
       "    <tr>\n",
       "      <th>min</th>\n",
       "      <td>0.000000</td>\n",
       "      <td>1701.000000</td>\n",
       "      <td>4.500000e+03</td>\n",
       "      <td>2.250000e+03</td>\n",
       "      <td>1991.000000</td>\n",
       "      <td>0.000000</td>\n",
       "      <td>0.000000</td>\n",
       "      <td>111110.000000</td>\n",
       "      <td>0.000000</td>\n",
       "      <td>0.000000</td>\n",
       "      <td>0.000000e+00</td>\n",
       "      <td>0.000000</td>\n",
       "      <td>0.000000</td>\n",
       "      <td>7.000000e+04</td>\n",
       "    </tr>\n",
       "    <tr>\n",
       "      <th>25%</th>\n",
       "      <td>94403.000000</td>\n",
       "      <td>57104.000000</td>\n",
       "      <td>5.000000e+04</td>\n",
       "      <td>2.500000e+04</td>\n",
       "      <td>1999.000000</td>\n",
       "      <td>4.750000</td>\n",
       "      <td>84.000000</td>\n",
       "      <td>424990.000000</td>\n",
       "      <td>0.000000</td>\n",
       "      <td>11.000000</td>\n",
       "      <td>0.000000e+00</td>\n",
       "      <td>0.000000</td>\n",
       "      <td>0.000000</td>\n",
       "      <td>4.117062e+05</td>\n",
       "    </tr>\n",
       "    <tr>\n",
       "      <th>50%</th>\n",
       "      <td>94587.000000</td>\n",
       "      <td>80124.000000</td>\n",
       "      <td>1.850000e+05</td>\n",
       "      <td>1.000000e+05</td>\n",
       "      <td>2005.000000</td>\n",
       "      <td>5.750000</td>\n",
       "      <td>120.000000</td>\n",
       "      <td>541211.000000</td>\n",
       "      <td>1.000000</td>\n",
       "      <td>13.000000</td>\n",
       "      <td>0.000000e+00</td>\n",
       "      <td>0.000000</td>\n",
       "      <td>3.000000</td>\n",
       "      <td>7.384875e+05</td>\n",
       "    </tr>\n",
       "    <tr>\n",
       "      <th>75%</th>\n",
       "      <td>95051.000000</td>\n",
       "      <td>94596.000000</td>\n",
       "      <td>4.800000e+05</td>\n",
       "      <td>2.812500e+05</td>\n",
       "      <td>2010.000000</td>\n",
       "      <td>7.000000</td>\n",
       "      <td>240.000000</td>\n",
       "      <td>624410.000000</td>\n",
       "      <td>1.000000</td>\n",
       "      <td>17.000000</td>\n",
       "      <td>0.000000e+00</td>\n",
       "      <td>0.000000</td>\n",
       "      <td>8.000000</td>\n",
       "      <td>1.374216e+06</td>\n",
       "    </tr>\n",
       "    <tr>\n",
       "      <th>max</th>\n",
       "      <td>99999.000000</td>\n",
       "      <td>99362.000000</td>\n",
       "      <td>5.500000e+06</td>\n",
       "      <td>4.500000e+06</td>\n",
       "      <td>2017.000000</td>\n",
       "      <td>11.500000</td>\n",
       "      <td>429.000000</td>\n",
       "      <td>999990.000000</td>\n",
       "      <td>92006.000000</td>\n",
       "      <td>53.000000</td>\n",
       "      <td>2.328489e+06</td>\n",
       "      <td>1.000000</td>\n",
       "      <td>7256.000000</td>\n",
       "      <td>1.745200e+07</td>\n",
       "    </tr>\n",
       "  </tbody>\n",
       "</table>\n",
       "</div>"
      ],
      "text/plain": [
       "            BorrZip       BankZip  GrossApproval  SBAGuaranteedApproval  \\\n",
       "count  44082.000000  44030.000000   4.408200e+04           3.702300e+04   \n",
       "mean   94493.394537  69718.582807   3.673445e+05           2.247890e+05   \n",
       "std     3799.221644  26555.852797   5.197134e+05           3.526589e+05   \n",
       "min        0.000000   1701.000000   4.500000e+03           2.250000e+03   \n",
       "25%    94403.000000  57104.000000   5.000000e+04           2.500000e+04   \n",
       "50%    94587.000000  80124.000000   1.850000e+05           1.000000e+05   \n",
       "75%    95051.000000  94596.000000   4.800000e+05           2.812500e+05   \n",
       "max    99999.000000  99362.000000   5.500000e+06           4.500000e+06   \n",
       "\n",
       "       ApprovalFiscalYear  InitialInterestRate  TermInMonths      NaicsCode  \\\n",
       "count        44082.000000         12332.000000  44082.000000   37097.000000   \n",
       "mean          2004.454086             5.844035    151.441223  531949.045179   \n",
       "std              6.957417             1.845328     91.999411  167185.499081   \n",
       "min           1991.000000             0.000000      0.000000  111110.000000   \n",
       "25%           1999.000000             4.750000     84.000000  424990.000000   \n",
       "50%           2005.000000             5.750000    120.000000  541211.000000   \n",
       "75%           2010.000000             7.000000    240.000000  624410.000000   \n",
       "max           2017.000000            11.500000    429.000000  999990.000000   \n",
       "\n",
       "       FranchiseCode  CongressionalDistrict  GrossChargeOffAmount  \\\n",
       "count   44082.000000           43719.000000          4.408200e+04   \n",
       "mean     2084.112835              12.475171          1.250027e+04   \n",
       "std     11110.453934               5.470474          7.774707e+04   \n",
       "min         0.000000               0.000000          0.000000e+00   \n",
       "25%         0.000000              11.000000          0.000000e+00   \n",
       "50%         1.000000              13.000000          0.000000e+00   \n",
       "75%         1.000000              17.000000          0.000000e+00   \n",
       "max     92006.000000              53.000000          2.328489e+06   \n",
       "\n",
       "       RevolverStatus  JobsSupported  ThirdPartyDollars  \n",
       "count    37023.000000   44082.000000       2.300000e+03  \n",
       "mean         0.238798       9.004582       1.165148e+06  \n",
       "std          0.426355      57.648117       1.408787e+06  \n",
       "min          0.000000       0.000000       7.000000e+04  \n",
       "25%          0.000000       0.000000       4.117062e+05  \n",
       "50%          0.000000       3.000000       7.384875e+05  \n",
       "75%          0.000000       8.000000       1.374216e+06  \n",
       "max          1.000000    7256.000000       1.745200e+07  "
      ]
     },
     "execution_count": 3,
     "metadata": {},
     "output_type": "execute_result"
    }
   ],
   "source": [
    "df = pd.read_csv('../data/FOIA_SFDO_504_7A.csv')\n",
    "df = df[df['SBADistrictOffice']=='SAN FRANCISCO DISTRICT OFFICE<U+00A0>']\n",
    "df = df[df['BusinessType'].notnull()]\n",
    "df.drop(['Unnamed: 0', 'Column', 'BorrName', 'BorrStreet', 'BorrCity', 'BorrState', 'BankStreet', 'BankCity','BankState','SBADistrictOffice','ProjectState','ProjectCounty','ThirdPartyLender_State','ThirdPartyLender_Name','ThirdPartyLender_City'], axis=1, inplace=True) #Dropping Borrower information because it's not useful for an analysis standpoint (can reference it at a later date) \n",
    "numerical_columns = df.describe().columns\n",
    "df.describe()\n"
   ]
  },
  {
   "cell_type": "code",
   "execution_count": 27,
   "metadata": {},
   "outputs": [
    {
     "data": {
      "text/plain": [
       "Program                   object\n",
       "BorrZip                    int64\n",
       "BankName                  object\n",
       "BankZip                  float64\n",
       "GrossApproval              int64\n",
       "SBAGuaranteedApproval    float64\n",
       "ApprovalDate              object\n",
       "ApprovalFiscalYear         int64\n",
       "FirstDisbursementDate     object\n",
       "DeliveryMethod            object\n",
       "subpgmdesc                object\n",
       "InitialInterestRate      float64\n",
       "TermInMonths               int64\n",
       "NaicsCode                float64\n",
       "NaicsDescription          object\n",
       "FranchiseCode              int64\n",
       "FranchiseName             object\n",
       "CongressionalDistrict    float64\n",
       "BusinessType              object\n",
       "LoanStatus                object\n",
       "ChargeOffDate             object\n",
       "GrossChargeOffAmount       int64\n",
       "RevolverStatus           float64\n",
       "JobsSupported              int64\n",
       "ThirdPartyDollars        float64\n",
       "dtype: object"
      ]
     },
     "execution_count": 27,
     "metadata": {},
     "output_type": "execute_result"
    }
   ],
   "source": [
    "df.dtypes"
   ]
  },
  {
   "cell_type": "markdown",
   "metadata": {},
   "source": [
    "## Possible Columns to dummify:\n",
    "- Program - how the buisness accessed its loan\n",
    "- Bank name - who gave the loan\n",
    "- Congressional District (?)\n",
    "- Buisness Type\n",
    "- NaicsCode\n",
    "- Whether or not they got a third party loan (and possible how much they get? Not very many third party loans...)"
   ]
  },
  {
   "cell_type": "markdown",
   "metadata": {},
   "source": [
    "### Looking at Distribution of # of Bank Loans"
   ]
  },
  {
   "cell_type": "code",
   "execution_count": 4,
   "metadata": {},
   "outputs": [],
   "source": [
    "from operator import itemgetter\n",
    "bank_loan_count = []\n",
    "for bank_name in df['BankName'].unique():\n",
    "    bank_loan_count.append((bank_name, len(df[df['BankName']==bank_name])))\n",
    "bank_loan_count.sort(key=itemgetter(1), reverse=True)\n",
    "    \n"
   ]
  },
  {
   "cell_type": "code",
   "execution_count": 7,
   "metadata": {},
   "outputs": [
    {
     "data": {
      "text/plain": [
       "<matplotlib.text.Text at 0x117cff490>"
      ]
     },
     "execution_count": 7,
     "metadata": {},
     "output_type": "execute_result"
    },
    {
     "data": {
      "image/png": "[encoded data removed]",
      "text/plain": [
       "<matplotlib.figure.Figure at 0x117e651d0>"
      ]
     },
     "metadata": {},
     "output_type": "display_data"
    }
   ],
   "source": [
    "hist_values = [x[1] for x in bank_loan_count]\n",
    "bank_names = [x[0] for x in bank_loan_count]\n",
    "plt.bar(np.arange(50), hist_values[0:50])\n",
    "plt.xlabel('Banks')\n",
    "plt.ylabel('Number of Loans')"
   ]
  }
 ],
 "metadata": {
  "kernelspec": {
   "display_name": "Python [default]",
   "language": "python",
   "name": "python2"
  },
  "language_info": {
   "codemirror_mode": {
    "name": "ipython",
    "version": 2
   },
   "file_extension": ".py",
   "mimetype": "text/x-python",
   "name": "python",
   "nbconvert_exporter": "python",
   "pygments_lexer": "ipython2",
   "version": "2.7.13"
  }
 },
 "nbformat": 4,
 "nbformat_minor": 2
}
